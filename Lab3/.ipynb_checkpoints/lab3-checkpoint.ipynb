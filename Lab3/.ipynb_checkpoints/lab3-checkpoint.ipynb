{
 "metadata": {
  "name": ""
 },
 "nbformat": 3,
 "nbformat_minor": 0,
 "worksheets": [
  {
   "cells": [
    {
     "cell_type": "code",
     "collapsed": false,
     "input": [
      "import csv\n",
      "f = open ('cig.csv', 'rb')\n",
      "reader= csv.reader (f)\n",
      "for row in reader:\n",
      "    print row\n",
      "f.close()"
     ],
     "language": "python",
     "metadata": {},
     "outputs": [
      {
       "output_type": "stream",
       "stream": "stdout",
       "text": [
        "['Alpine \\t\\t14.1  .86  .9853  13.6']\n",
        "['Benson&Hedges\\t16.0 1.06 1.0938  16.6']\n",
        "['BullDurham\\t29.8 2.03 1.1650  23.5']\n",
        "['CamelLights\\t 8.0  .67  .9280  10.2']\n",
        "['Carlton\\t\\t 4.1  .40  .9462   5.4']\n",
        "['Chesterfield\\t15.0 1.04  .8885  15.0']\n",
        "['GoldenLights\\t 8.8  .76 1.0267   9.0']\n",
        "['Kent\\t\\t12.4  .95  .9225  12.3']\n",
        "['Kool\\t\\t16.6 1.12  .9372  16.3']\n",
        "['L&M\\t\\t14.9 1.02  .8858  15.4']\n",
        "['LarkLights\\t13.7 1.01  .9643  13.0']\n",
        "['Marlboro\\t15.1  .90  .9316  14.4']\n",
        "['Merit\\t\\t 7.8  .57  .9705  10.0']\n",
        "['MultiFilter\\t11.4  .78 1.1240  10.2']\n",
        "['NewportLights\\t 9.0  .74  .8517   9.5']\n",
        "['Now\\t\\t 1.0  .13  .7851   1.5']\n",
        "['OldGold\\t\\t17.0 1.26  .9186  18.5']\n",
        "['PallMallLight\\t12.8 1.08 1.0395  12.6']\n",
        "['Raleigh\\t\\t15.8  .96  .9573  17.5']\n",
        "['SalemUltra\\t 4.5  .42  .9106   4.9']\n",
        "['Tareyton\\t14.5 1.01 1.0070  15.9']\n",
        "['True\\t\\t 7.3  .61  .9806   8.5']\n",
        "['ViceroyRichLight 8.6  .69  .9693  10.6']\n",
        "['VirginiaSlims\\t15.2 1.02  .9496  13.9']\n",
        "['WinstonLights\\t12.0 .82  1.1184  14.9']\n"
       ]
      }
     ],
     "prompt_number": 10
    },
    {
     "cell_type": "code",
     "collapsed": false,
     "input": [
      "import csv\n",
      "f = open ('cig.csv', 'rb')\n",
      "reader= csv.reader (f)\n",
      "for row in reader:\n",
      "    print row\n",
      "f.close()\n",
      "f = replace (\"\\t\", \" \")\n"
     ],
     "language": "python",
     "metadata": {},
     "outputs": [
      {
       "ename": "NameError",
       "evalue": "name 'replace' is not defined",
       "output_type": "pyerr",
       "traceback": [
        "\u001b[1;31m---------------------------------------------------------------------------\u001b[0m\n\u001b[1;31mNameError\u001b[0m                                 Traceback (most recent call last)",
        "\u001b[1;32m<ipython-input-11-bd088827fdc3>\u001b[0m in \u001b[0;36m<module>\u001b[1;34m()\u001b[0m\n\u001b[0;32m      5\u001b[0m     \u001b[1;32mprint\u001b[0m \u001b[0mrow\u001b[0m\u001b[1;33m\u001b[0m\u001b[0m\n\u001b[0;32m      6\u001b[0m \u001b[0mf\u001b[0m\u001b[1;33m.\u001b[0m\u001b[0mclose\u001b[0m\u001b[1;33m(\u001b[0m\u001b[1;33m)\u001b[0m\u001b[1;33m\u001b[0m\u001b[0m\n\u001b[1;32m----> 7\u001b[1;33m \u001b[0mf\u001b[0m \u001b[1;33m=\u001b[0m \u001b[0mreplace\u001b[0m \u001b[1;33m(\u001b[0m\u001b[1;34m\"\\t\"\u001b[0m\u001b[1;33m,\u001b[0m \u001b[1;34m\" \"\u001b[0m\u001b[1;33m)\u001b[0m\u001b[1;33m\u001b[0m\u001b[0m\n\u001b[0m",
        "\u001b[1;31mNameError\u001b[0m: name 'replace' is not defined"
       ]
      },
      {
       "output_type": "stream",
       "stream": "stdout",
       "text": [
        "['Alpine \\t\\t14.1  .86  .9853  13.6']\n",
        "['Benson&Hedges\\t16.0 1.06 1.0938  16.6']\n",
        "['BullDurham\\t29.8 2.03 1.1650  23.5']\n",
        "['CamelLights\\t 8.0  .67  .9280  10.2']\n",
        "['Carlton\\t\\t 4.1  .40  .9462   5.4']\n",
        "['Chesterfield\\t15.0 1.04  .8885  15.0']\n",
        "['GoldenLights\\t 8.8  .76 1.0267   9.0']\n",
        "['Kent\\t\\t12.4  .95  .9225  12.3']\n",
        "['Kool\\t\\t16.6 1.12  .9372  16.3']\n",
        "['L&M\\t\\t14.9 1.02  .8858  15.4']\n",
        "['LarkLights\\t13.7 1.01  .9643  13.0']\n",
        "['Marlboro\\t15.1  .90  .9316  14.4']\n",
        "['Merit\\t\\t 7.8  .57  .9705  10.0']\n",
        "['MultiFilter\\t11.4  .78 1.1240  10.2']\n",
        "['NewportLights\\t 9.0  .74  .8517   9.5']\n",
        "['Now\\t\\t 1.0  .13  .7851   1.5']\n",
        "['OldGold\\t\\t17.0 1.26  .9186  18.5']\n",
        "['PallMallLight\\t12.8 1.08 1.0395  12.6']\n",
        "['Raleigh\\t\\t15.8  .96  .9573  17.5']\n",
        "['SalemUltra\\t 4.5  .42  .9106   4.9']\n",
        "['Tareyton\\t14.5 1.01 1.0070  15.9']\n",
        "['True\\t\\t 7.3  .61  .9806   8.5']\n",
        "['ViceroyRichLight 8.6  .69  .9693  10.6']\n",
        "['VirginiaSlims\\t15.2 1.02  .9496  13.9']\n",
        "['WinstonLights\\t12.0 .82  1.1184  14.9']\n"
       ]
      }
     ],
     "prompt_number": 11
    },
    {
     "cell_type": "code",
     "collapsed": false,
     "input": [
      "import csv\n",
      "f = open ('cig.csv', 'rb')\n",
      "reader= csv.reader (f)\n",
      "for row in reader:\n",
      "    print row\n",
      "    print row[0].replace('\\t', ' ')\n",
      "f.close()"
     ],
     "language": "python",
     "metadata": {},
     "outputs": [
      {
       "output_type": "stream",
       "stream": "stdout",
       "text": [
        "['Alpine \\t\\t14.1  .86  .9853  13.6']\n",
        "Alpine   14.1  .86  .9853  13.6\n",
        "['Benson&Hedges\\t16.0 1.06 1.0938  16.6']\n",
        "Benson&Hedges 16.0 1.06 1.0938  16.6\n",
        "['BullDurham\\t29.8 2.03 1.1650  23.5']\n",
        "BullDurham 29.8 2.03 1.1650  23.5\n",
        "['CamelLights\\t 8.0  .67  .9280  10.2']\n",
        "CamelLights  8.0  .67  .9280  10.2\n",
        "['Carlton\\t\\t 4.1  .40  .9462   5.4']\n",
        "Carlton   4.1  .40  .9462   5.4\n",
        "['Chesterfield\\t15.0 1.04  .8885  15.0']\n",
        "Chesterfield 15.0 1.04  .8885  15.0\n",
        "['GoldenLights\\t 8.8  .76 1.0267   9.0']\n",
        "GoldenLights  8.8  .76 1.0267   9.0\n",
        "['Kent\\t\\t12.4  .95  .9225  12.3']\n",
        "Kent  12.4  .95  .9225  12.3\n",
        "['Kool\\t\\t16.6 1.12  .9372  16.3']\n",
        "Kool  16.6 1.12  .9372  16.3\n",
        "['L&M\\t\\t14.9 1.02  .8858  15.4']\n",
        "L&M  14.9 1.02  .8858  15.4\n",
        "['LarkLights\\t13.7 1.01  .9643  13.0']\n",
        "LarkLights 13.7 1.01  .9643  13.0\n",
        "['Marlboro\\t15.1  .90  .9316  14.4']\n",
        "Marlboro 15.1  .90  .9316  14.4\n",
        "['Merit\\t\\t 7.8  .57  .9705  10.0']\n",
        "Merit   7.8  .57  .9705  10.0\n",
        "['MultiFilter\\t11.4  .78 1.1240  10.2']\n",
        "MultiFilter 11.4  .78 1.1240  10.2\n",
        "['NewportLights\\t 9.0  .74  .8517   9.5']\n",
        "NewportLights  9.0  .74  .8517   9.5\n",
        "['Now\\t\\t 1.0  .13  .7851   1.5']\n",
        "Now   1.0  .13  .7851   1.5\n",
        "['OldGold\\t\\t17.0 1.26  .9186  18.5']\n",
        "OldGold  17.0 1.26  .9186  18.5\n",
        "['PallMallLight\\t12.8 1.08 1.0395  12.6']\n",
        "PallMallLight 12.8 1.08 1.0395  12.6\n",
        "['Raleigh\\t\\t15.8  .96  .9573  17.5']\n",
        "Raleigh  15.8  .96  .9573  17.5\n",
        "['SalemUltra\\t 4.5  .42  .9106   4.9']\n",
        "SalemUltra  4.5  .42  .9106   4.9\n",
        "['Tareyton\\t14.5 1.01 1.0070  15.9']\n",
        "Tareyton 14.5 1.01 1.0070  15.9\n",
        "['True\\t\\t 7.3  .61  .9806   8.5']\n",
        "True   7.3  .61  .9806   8.5\n",
        "['ViceroyRichLight 8.6  .69  .9693  10.6']\n",
        "ViceroyRichLight 8.6  .69  .9693  10.6\n",
        "['VirginiaSlims\\t15.2 1.02  .9496  13.9']\n",
        "VirginiaSlims 15.2 1.02  .9496  13.9\n",
        "['WinstonLights\\t12.0 .82  1.1184  14.9']\n",
        "WinstonLights 12.0 .82  1.1184  14.9\n"
       ]
      }
     ],
     "prompt_number": 16
    }
   ],
   "metadata": {}
  }
 ]
}